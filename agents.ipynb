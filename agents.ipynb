{
  "nbformat": 4,
  "nbformat_minor": 0,
  "metadata": {
    "colab": {
      "provenance": [],
      "collapsed_sections": []
    },
    "kernelspec": {
      "name": "python3",
      "display_name": "Python 3"
    },
    "language_info": {
      "name": "python"
    }
  },
  "cells": [
    {
      "cell_type": "code",
      "execution_count": null,
      "metadata": {
        "id": "Hsq1C7e_lCyF"
      },
      "outputs": [],
      "source": [
        "!pip install -q -U kaggle_environments\n",
        "\n",
        "import numpy as np\n",
        "import pandas as pd\n",
        "import random\n",
        "\n",
        "import matplotlib.pyplot as plt\n",
        "import seaborn as sns\n",
        "\n",
        "from kaggle_environments import make, evaluate\n",
        "\n",
        "#0 - rock\n",
        "#1 - paper\n",
        "#2 - scissors"
      ]
    },
    {
      "cell_type": "code",
      "source": [
        "%%writefile rock_agent.py\n",
        "\n",
        "def your_agent(observation, configuration):\n",
        "    return 0"
      ],
      "metadata": {
        "colab": {
          "base_uri": "https://localhost:8080/"
        },
        "id": "99YelGpXjT-w",
        "outputId": "066dd055-1782-4a15-fd5d-ef49465d0986"
      },
      "execution_count": null,
      "outputs": [
        {
          "output_type": "stream",
          "name": "stdout",
          "text": [
            "Overwriting rock_agent.py\n"
          ]
        }
      ]
    },
    {
      "cell_type": "code",
      "source": [
        "%%writefile paper_agent.py\n",
        "\n",
        "def your_agent(observation, configuration):\n",
        "    return 1"
      ],
      "metadata": {
        "id": "YDyvTP44kJ4H",
        "colab": {
          "base_uri": "https://localhost:8080/"
        },
        "outputId": "3cab648f-d385-4c4b-e4cc-433feab53db5"
      },
      "execution_count": null,
      "outputs": [
        {
          "output_type": "stream",
          "name": "stdout",
          "text": [
            "Overwriting paper_agent.py\n"
          ]
        }
      ]
    },
    {
      "cell_type": "code",
      "source": [
        "%%writefile scissors_agent.py\n",
        "\n",
        "def your_agent(observation, configuration):\n",
        "    return 2"
      ],
      "metadata": {
        "colab": {
          "base_uri": "https://localhost:8080/"
        },
        "id": "MDa_oi8GNgiA",
        "outputId": "cb7e8191-984f-4b78-bcdc-da2e1c427258"
      },
      "execution_count": null,
      "outputs": [
        {
          "output_type": "stream",
          "name": "stdout",
          "text": [
            "Overwriting scissors_agent.py\n"
          ]
        }
      ]
    },
    {
      "cell_type": "code",
      "source": [
        "%%writefile first_random_rock_paper_agent.py\n",
        "\n",
        "def your_agent(observation, configuration):\n",
        "    import random\n",
        "    if observation.step == 0:\n",
        "      return random.choice([0,1])\n",
        "    else:\n",
        "      return observation.lastOpponentAction"
      ],
      "metadata": {
        "colab": {
          "base_uri": "https://localhost:8080/"
        },
        "id": "MuWG18xhOTpq",
        "outputId": "4e558db2-9e3d-4faa-c344-27e347923e26"
      },
      "execution_count": null,
      "outputs": [
        {
          "output_type": "stream",
          "name": "stdout",
          "text": [
            "Overwriting first_random_rock_paper_agent.py\n"
          ]
        }
      ]
    },
    {
      "cell_type": "code",
      "source": [
        "%%writefile first_random_paper_scissors_agent.py\n",
        "\n",
        "def your_agent(observation, configuration):\n",
        "    import random\n",
        "    if observation.step == 0:\n",
        "      return random.choice([1,2])\n",
        "    else:\n",
        "      return observation.lastOpponentAction"
      ],
      "metadata": {
        "colab": {
          "base_uri": "https://localhost:8080/"
        },
        "id": "b4JAAXoXO3yw",
        "outputId": "cef07828-224a-414c-cb0a-a6127b1068d0"
      },
      "execution_count": null,
      "outputs": [
        {
          "output_type": "stream",
          "name": "stdout",
          "text": [
            "Overwriting first_random_paper_scissors_agent.py\n"
          ]
        }
      ]
    },
    {
      "cell_type": "code",
      "source": [
        "%%writefile first_random_rock_scissors_agent.py\n",
        "\n",
        "def your_agent(observation, configuration):\n",
        "    import random\n",
        "    if observation.step == 0:\n",
        "      return random.choice([0,2])\n",
        "    else:\n",
        "      return observation.lastOpponentAction"
      ],
      "metadata": {
        "colab": {
          "base_uri": "https://localhost:8080/"
        },
        "id": "56T80RgmPPW0",
        "outputId": "3dafeb4b-d08e-46e2-a1c3-1d8733a05315"
      },
      "execution_count": null,
      "outputs": [
        {
          "output_type": "stream",
          "name": "stdout",
          "text": [
            "Overwriting first_random_rock_scissors_agent.py\n"
          ]
        }
      ]
    },
    {
      "cell_type": "code",
      "source": [
        "%%writefile first_random_rock_paper_scissors_agent.py\n",
        "\n",
        "def your_agent(observation, configuration):\n",
        "    import random\n",
        "    if observation.step == 0:\n",
        "      return random.choice([0,1,2])\n",
        "    else:\n",
        "      return observation.lastOpponentAction"
      ],
      "metadata": {
        "colab": {
          "base_uri": "https://localhost:8080/"
        },
        "id": "UuRoWf8nPibS",
        "outputId": "ef0c4108-49e1-4907-8708-6493b0c07901"
      },
      "execution_count": null,
      "outputs": [
        {
          "output_type": "stream",
          "name": "stdout",
          "text": [
            "Overwriting first_random_rock_paper_scissors_agent.py\n"
          ]
        }
      ]
    },
    {
      "cell_type": "code",
      "source": [
        "%%writefile all_random_agent.py\n",
        "\n",
        "def your_agent(observation, configuration):\n",
        "    import random\n",
        "    return random.choice([0,1,2])"
      ],
      "metadata": {
        "colab": {
          "base_uri": "https://localhost:8080/"
        },
        "id": "wqRsgVJNQq92",
        "outputId": "425ba8bf-d417-4451-d714-269d933e7e3d"
      },
      "execution_count": null,
      "outputs": [
        {
          "output_type": "stream",
          "name": "stdout",
          "text": [
            "Overwriting all_random_agent.py\n"
          ]
        }
      ]
    },
    {
      "cell_type": "code",
      "source": [
        "%%writefile random_rock_paper_agent.py\n",
        "\n",
        "def your_agent(observation, configuration):\n",
        "    import random\n",
        "    return random.choice([0,1])"
      ],
      "metadata": {
        "colab": {
          "base_uri": "https://localhost:8080/"
        },
        "id": "kW_VSS4dUzha",
        "outputId": "352cef4f-6c79-4ed5-b866-f2eeca5ca601"
      },
      "execution_count": null,
      "outputs": [
        {
          "output_type": "stream",
          "name": "stdout",
          "text": [
            "Overwriting random_rock_paper_agent.py\n"
          ]
        }
      ]
    },
    {
      "cell_type": "code",
      "source": [
        "%%writefile random_paper_scissors_agent.py\n",
        "\n",
        "def your_agent(observation, configuration):\n",
        "    import random\n",
        "    return random.choice([1,2])"
      ],
      "metadata": {
        "colab": {
          "base_uri": "https://localhost:8080/"
        },
        "id": "C4pLuS1iU5vB",
        "outputId": "691b0d17-5351-41aa-9238-318024a7dceb"
      },
      "execution_count": null,
      "outputs": [
        {
          "output_type": "stream",
          "name": "stdout",
          "text": [
            "Overwriting random_paper_scissors_agent.py\n"
          ]
        }
      ]
    },
    {
      "cell_type": "code",
      "source": [
        "%%writefile random_rock_scissors_agent.py\n",
        "\n",
        "def your_agent(observation, configuration):\n",
        "    import random\n",
        "    return random.choice([0,2])"
      ],
      "metadata": {
        "colab": {
          "base_uri": "https://localhost:8080/"
        },
        "id": "9lalMj-0VDrw",
        "outputId": "c6664202-c3c7-4c1b-e595-bee33ad4acff"
      },
      "execution_count": null,
      "outputs": [
        {
          "output_type": "stream",
          "name": "stdout",
          "text": [
            "Overwriting random_rock_scissors_agent.py\n"
          ]
        }
      ]
    },
    {
      "cell_type": "code",
      "source": [
        "%%writefile non-repeating_opponent_agent.py\n",
        "\n",
        "# мы ожидаем, что противник не будет делать одно и то же действие 2 раза подряд\n",
        "# например, если предыдущее действие противника было камнем, то сейчас мы ожидаем от него бумагу или ножницы\n",
        "# поэтому мы используем ножницы, чтобы была либо победа, либо ничья\n",
        "\n",
        "def your_agent(observation, configuration):\n",
        "    import random\n",
        "    if observation.step == 0:\n",
        "      return random.choice([0,1,2])\n",
        "    elif observation.lastOpponentAction == 0:\n",
        "      return 2\n",
        "    elif observation.lastOpponentAction == 1:\n",
        "      return 0\n",
        "    elif observation.lastOpponentAction == 2:\n",
        "      return 1"
      ],
      "metadata": {
        "colab": {
          "base_uri": "https://localhost:8080/"
        },
        "id": "mF3u8-T1Q90Y",
        "outputId": "8969eb25-83ef-45a3-aff6-e2a4796eaf3e"
      },
      "execution_count": null,
      "outputs": [
        {
          "output_type": "stream",
          "name": "stdout",
          "text": [
            "Overwriting non-repeating_opponent_agent.py\n"
          ]
        }
      ]
    },
    {
      "cell_type": "code",
      "source": [
        "%%writefile repeating_opponent_agent.py\n",
        "\n",
        "# мы ожидаем, что противник делает одно и то же действие несколько раз подряд\n",
        "# например, только камень\n",
        "# поэтому мы используем бумагу\n",
        "\n",
        "def your_agent(observation, configuration):\n",
        "    import random\n",
        "    if observation.step == 0:\n",
        "      return random.choice([0,1,2])\n",
        "    elif observation.lastOpponentAction == 0:\n",
        "      return 1\n",
        "    elif observation.lastOpponentAction == 1:\n",
        "      return 2\n",
        "    elif observation.lastOpponentAction == 2:\n",
        "      return 0"
      ],
      "metadata": {
        "colab": {
          "base_uri": "https://localhost:8080/"
        },
        "id": "uQm_zqHzTokj",
        "outputId": "8b65000a-d0ce-4997-9eed-4278103012e1"
      },
      "execution_count": null,
      "outputs": [
        {
          "output_type": "stream",
          "name": "stdout",
          "text": [
            "Overwriting repeating_opponent_agent.py\n"
          ]
        }
      ]
    },
    {
      "cell_type": "code",
      "source": [
        "agents = ['rock_agent.py', 'paper_agent.py', 'scissors_agent.py', 'first_random_rock_paper_agent.py', 'first_random_paper_scissors_agent.py', \n",
        "          'first_random_rock_scissors_agent.py', 'first_random_rock_paper_scissors_agent.py', 'all_random_agent.py', 'random_rock_paper_agent.py', \n",
        "          'random_paper_scissors_agent.py', 'random_rock_scissors_agent.py', 'non-repeating_opponent_agent.py', 'repeating_opponent_agent.py']\n",
        "\n",
        "#в цикле мы сравниваем каждого с каждым и для каждого агента считаем колтичество побед, ничьих, поражений\n",
        "#также создаем список, элементами которого будут вложенные списки типа: [агент, кол-во побед, кол-во ничьих, кол-во поражений]\n",
        "results=[]\n",
        "for i in agents:\n",
        "  win = 0\n",
        "  draw = 0\n",
        "  lose = 0\n",
        "  for j in agents:\n",
        "    result = evaluate(\n",
        "            \"rps\", #environment to use - no need to change\n",
        "            [i, j], #agents to evaluate\n",
        "             configuration={\"episodeSteps\": 30} #number of episodes \n",
        "    )\n",
        "    if result[0][0] > 0:\n",
        "      win += 1\n",
        "    elif result[0][0] == 0:\n",
        "      draw += 1\n",
        "    elif result[0][0] < 0:\n",
        "      lose += 1\n",
        "  results.append([i, win, draw, lose])\n",
        "\n",
        "#создаем таблицу с агентами и их результатами\n",
        "column = ['agent', 'win', 'draw', 'lose']\n",
        "index1 = [1, 2, 3, 4, 5, 6, 7, 8, 9, 10, 11, 12, 13]\n",
        "score_df = pd.DataFrame(results, columns = column, index = index1)\n",
        "print(score_df)\n"
      ],
      "metadata": {
        "id": "oytfAwGOjfoB",
        "colab": {
          "base_uri": "https://localhost:8080/"
        },
        "outputId": "a87f6db3-2459-473f-d783-2a70408fb13a"
      },
      "execution_count": null,
      "outputs": [
        {
          "output_type": "stream",
          "name": "stdout",
          "text": [
            "                                        agent  win  draw  lose\n",
            "1                               rock_agent.py    2     9     2\n",
            "2                              paper_agent.py    2     9     2\n",
            "3                           scissors_agent.py    2     9     2\n",
            "4            first_random_rock_paper_agent.py    0    12     1\n",
            "5        first_random_paper_scissors_agent.py    0    12     1\n",
            "6         first_random_rock_scissors_agent.py    1    12     0\n",
            "7   first_random_rock_paper_scissors_agent.py    1    11     1\n",
            "8                         all_random_agent.py    0    13     0\n",
            "9                  random_rock_paper_agent.py    0    13     0\n",
            "10             random_paper_scissors_agent.py    0    13     0\n",
            "11              random_rock_scissors_agent.py    0    13     0\n",
            "12            non-repeating_opponent_agent.py    1     8     4\n",
            "13                repeating_opponent_agent.py    4     7     2\n"
          ]
        }
      ]
    }
  ]
}